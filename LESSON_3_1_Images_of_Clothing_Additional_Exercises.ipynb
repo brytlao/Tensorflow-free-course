{
  "nbformat": 4,
  "nbformat_minor": 0,
  "metadata": {
    "colab": {
      "name": "LESSON 3.1: Images of Clothing: Additional Exercises",
      "version": "0.3.2",
      "provenance": [],
      "private_outputs": true,
      "collapsed_sections": [],
      "toc_visible": true,
      "include_colab_link": true
    },
    "kernelspec": {
      "display_name": "Python 3",
      "name": "python3"
    },
    "accelerator": "GPU"
  },
  "cells": [
    {
      "cell_type": "markdown",
      "metadata": {
        "id": "view-in-github",
        "colab_type": "text"
      },
      "source": [
        "<a href=\"https://colab.research.google.com/github/brytlao/Tensorflow-free-course/blob/master/LESSON_3_1_Images_of_Clothing_Additional_Exercises.ipynb\" target=\"_parent\"><img src=\"https://colab.research.google.com/assets/colab-badge.svg\" alt=\"Open In Colab\"/></a>"
      ]
    },
    {
      "metadata": {
        "colab_type": "text",
        "id": "jYysdyb-CaWM"
      },
      "cell_type": "markdown",
      "source": [
        "# Exercise: Classifying Images of Clothing"
      ]
    },
    {
      "metadata": {
        "id": "Ju6MBPMRDYi6",
        "colab_type": "text"
      },
      "cell_type": "markdown",
      "source": [
        "#Install and import dependencies"
      ]
    },
    {
      "metadata": {
        "id": "jnY0reQkIaR6",
        "colab_type": "code",
        "colab": {}
      },
      "cell_type": "code",
      "source": [
        "!pip install -U tensorflow_datasets"
      ],
      "execution_count": 0,
      "outputs": []
    },
    {
      "metadata": {
        "id": "dHQuxPVwDEkz",
        "colab_type": "code",
        "colab": {}
      },
      "cell_type": "code",
      "source": [
        "# tensorflow dataset\n",
        "import tensorflow as tf\n",
        "import tensorflow_datasets as tfds\n",
        "tf.logging.set_verbosity(tf.logging.ERROR)\n",
        "\n",
        "# helper libraries\n",
        "import math\n",
        "import numpy as np\n",
        "import matplotlib.pyplot as plt\n",
        "\n",
        "# progress bar display\n",
        "import tqdm\n",
        "import tqdm.auto\n",
        "tqdm.tqdm = tqdm.auto.tqdm\n",
        "\n",
        "# print tf version\n",
        "print(tf.__version__)\n",
        "\n",
        "# tf issue\n",
        "tf.enable_eager_execution()"
      ],
      "execution_count": 0,
      "outputs": []
    },
    {
      "metadata": {
        "id": "dXn-FEddDzPB",
        "colab_type": "text"
      },
      "cell_type": "markdown",
      "source": [
        "#Import specific dataset"
      ]
    },
    {
      "metadata": {
        "id": "fUgVuSaRDCaJ",
        "colab_type": "code",
        "colab": {}
      },
      "cell_type": "code",
      "source": [
        "# import mnist dataset\n",
        "dataset, metadata = tfds.load(\"fashion_mnist\", as_supervised=True, with_info=True)\n",
        "train_dataset, test_dataset = dataset['train'], dataset['test']"
      ],
      "execution_count": 0,
      "outputs": []
    },
    {
      "metadata": {
        "id": "kv1cOoZNIhUc",
        "colab_type": "code",
        "colab": {}
      },
      "cell_type": "code",
      "source": [
        "# set class labels\n",
        "class_names = ['T-shirt/top', 'Trouser', 'Pullover', 'Dress', 'Coat', \n",
        "               'Sandal', 'Shirt', 'Sneaker', 'Bag', 'Ankle boot']"
      ],
      "execution_count": 0,
      "outputs": []
    },
    {
      "metadata": {
        "id": "qQTbYfX-IlNQ",
        "colab_type": "code",
        "colab": {}
      },
      "cell_type": "code",
      "source": [
        "# explore imported data\n",
        "num_train_examples = metadata.splits['train'].num_examples\n",
        "num_test_examples = metadata.splits['test'].num_examples\n",
        "print(\"number of training samples: {}\".format(num_train_examples))\n",
        "print(\"number of test samples: {}\".format(num_test_examples))"
      ],
      "execution_count": 0,
      "outputs": []
    },
    {
      "metadata": {
        "id": "PvR1g7iHELTe",
        "colab_type": "text"
      },
      "cell_type": "markdown",
      "source": [
        "#Preprocess the data"
      ]
    },
    {
      "metadata": {
        "colab_type": "code",
        "id": "WIIYx5IIfwF0",
        "colab": {}
      },
      "cell_type": "code",
      "source": [
        "# define normalize function\n",
        "def normalize(images,labels):\n",
        "  images = tf.cast(images,tf.float32)\n",
        "  images /= 255\n",
        "  return images,labels\n",
        "\n",
        "# normalize data\n",
        "train_dataset = train_dataset.map(normalize)\n",
        "test_dataset = test_dataset.map(normalize)"
      ],
      "execution_count": 0,
      "outputs": []
    },
    {
      "metadata": {
        "id": "Xf72eedAxcxp",
        "colab_type": "code",
        "colab": {}
      },
      "cell_type": "code",
      "source": [
        "# DONE\n",
        "\n",
        "# extra: Don't normalize the pixel values, and see the effect that has\n",
        "\n",
        "# just don't run the above"
      ],
      "execution_count": 0,
      "outputs": []
    },
    {
      "metadata": {
        "id": "c8WqdTfpKOzU",
        "colab_type": "text"
      },
      "cell_type": "markdown",
      "source": [
        "#Explore the data"
      ]
    },
    {
      "metadata": {
        "id": "NnHnp3CLJ60b",
        "colab_type": "code",
        "colab": {}
      },
      "cell_type": "code",
      "source": [
        "# plot single sample\n",
        "for image,label in train_dataset.take(1):\n",
        "  break\n",
        "image = image.numpy().reshape((28,28))\n",
        "\n",
        "plt.figure()\n",
        "plt.imshow(image,cmap=plt.cm.binary)\n",
        "plt.colorbar()\n",
        "plt.grid(False)\n",
        "plt.show()"
      ],
      "execution_count": 0,
      "outputs": []
    },
    {
      "metadata": {
        "id": "NdG2CZUQKUVc",
        "colab_type": "code",
        "colab": {}
      },
      "cell_type": "code",
      "source": [
        "# plot multiple samples\n",
        "plt.figure(figsize=(10,10))\n",
        "i = 0\n",
        "for image,label in train_dataset.take(25):\n",
        "  image = image.numpy().reshape((28,28))\n",
        "  plt.subplot(5,5,i+1)\n",
        "  plt.xticks([])\n",
        "  plt.yticks([])\n",
        "  plt.grid(False)\n",
        "  plt.imshow(image,cmap=plt.cm.binary)\n",
        "  plt.xlabel(class_names[label])\n",
        "  i += 1\n",
        "plt.show()"
      ],
      "execution_count": 0,
      "outputs": []
    },
    {
      "metadata": {
        "id": "WgAA1MQoERsQ",
        "colab_type": "text"
      },
      "cell_type": "markdown",
      "source": [
        "#Build the model"
      ]
    },
    {
      "metadata": {
        "id": "pxiH35IjDOTw",
        "colab_type": "code",
        "colab": {}
      },
      "cell_type": "code",
      "source": [
        "# create layers\n",
        "model = tf.keras.Sequential([\n",
        "    tf.keras.layers.Flatten(input_shape=(28,28,1)),\n",
        "    tf.keras.layers.Dense(128, activation=tf.nn.relu),\n",
        "    tf.keras.layers.Dense(10, activation=tf.nn.softmax)\n",
        "])\n",
        "\n",
        "# compile model\n",
        "model.compile(optimizer=\"adam\",\n",
        "              loss=\"sparse_categorical_crossentropy\",\n",
        "              metrics=[\"accuracy\"])"
      ],
      "execution_count": 0,
      "outputs": []
    },
    {
      "metadata": {
        "id": "WH7q8pKexg--",
        "colab_type": "code",
        "colab": {}
      },
      "cell_type": "code",
      "source": [
        "# DONE\n",
        "# extra: Number of neurons in the Dense layer following the Flatten one.\n",
        "# For example, go really low (e.g. 10) in ranges up to 512 and see how accuracy changes\n",
        "\n",
        "# create layers\n",
        "#NUM_NEURONS = 512\n",
        "#model = tf.keras.Sequential([\n",
        "#    tf.keras.layers.Flatten(input_shape=(28,28,1)),\n",
        "#    tf.keras.layers.Dense(NUM_NEURONS, activation=tf.nn.relu),\n",
        "#    tf.keras.layers.Dense(10, activation=tf.nn.softmax)\n",
        "#])\n",
        "\n",
        "# compile model\n",
        "#model.compile(optimizer=\"adam\",\n",
        "#              loss=\"sparse_categorical_crossentropy\",\n",
        "#              metrics=[\"accuracy\"])"
      ],
      "execution_count": 0,
      "outputs": []
    },
    {
      "metadata": {
        "id": "gz_K_CzWxiy_",
        "colab_type": "code",
        "colab": {}
      },
      "cell_type": "code",
      "source": [
        "# DONE\n",
        "# extra: Add additional Dense layers between the Flatten and the final Dense(10, activation=tf.nn.softmax),\n",
        "# experiment with different units in these layers\n",
        "\n",
        "# create layers\n",
        "#NUM_NEURONS = 256\n",
        "#model = tf.keras.Sequential([\n",
        "#    tf.keras.layers.Flatten(input_shape=(28,28,1)),\n",
        "#    tf.keras.layers.Dense(NUM_NEURONS, activation=tf.nn.relu),\n",
        "#    tf.keras.layers.Dense(NUM_NEURONS, activation=tf.nn.relu),\n",
        "#    tf.keras.layers.Dense(NUM_NEURONS, activation=tf.nn.relu),\n",
        "#    tf.keras.layers.Dense(NUM_NEURONS, activation=tf.nn.relu),\n",
        "#    tf.keras.layers.Dense(NUM_NEURONS, activation=tf.nn.relu),\n",
        "#    tf.keras.layers.Dense(NUM_NEURONS, activation=tf.nn.relu),\n",
        "#    tf.keras.layers.Dense(NUM_NEURONS, activation=tf.nn.relu),\n",
        "#    tf.keras.layers.Dense(NUM_NEURONS, activation=tf.nn.relu),\n",
        "#    tf.keras.layers.Dense(NUM_NEURONS, activation=tf.nn.relu),\n",
        "#    tf.keras.layers.Dense(NUM_NEURONS, activation=tf.nn.relu),\n",
        "#    tf.keras.layers.Dense(10, activation=tf.nn.softmax)\n",
        "#])\n",
        "\n",
        "# compile model\n",
        "#model.compile(optimizer=\"adam\",\n",
        "#              loss=\"sparse_categorical_crossentropy\",\n",
        "#              metrics=[\"accuracy\"])"
      ],
      "execution_count": 0,
      "outputs": []
    },
    {
      "metadata": {
        "id": "D2fCGUooEfgo",
        "colab_type": "text"
      },
      "cell_type": "markdown",
      "source": [
        "#Train the model"
      ]
    },
    {
      "metadata": {
        "id": "eNfdTJkmDPrU",
        "colab_type": "code",
        "colab": {}
      },
      "cell_type": "code",
      "source": [
        "# set iteration behavior\n",
        "BATCH_SIZE = 32\n",
        "train_dataset = train_dataset.repeat().shuffle(num_train_examples).batch(BATCH_SIZE)\n",
        "test_dataset = test_dataset.batch(BATCH_SIZE)\n",
        "\n",
        "# fit model to data\n",
        "NUM_EPOCH = 5\n",
        "model.fit(train_dataset, epochs=NUM_EPOCH, steps_per_epoch=math.ceil(num_train_examples/BATCH_SIZE))"
      ],
      "execution_count": 0,
      "outputs": []
    },
    {
      "metadata": {
        "id": "2gNWgYw3xnMf",
        "colab_type": "code",
        "colab": {}
      },
      "cell_type": "code",
      "source": [
        "# DONE\n",
        "# extra: Set training epochs set to 1\n",
        "\n",
        "# set iteration behavior\n",
        "#BATCH_SIZE = 32\n",
        "#train_dataset = train_dataset.repeat().shuffle(num_train_examples).batch(BATCH_SIZE)\n",
        "#test_dataset = test_dataset.batch(BATCH_SIZE)\n",
        "\n",
        "# fit model to data\n",
        "#NUM_EPOCH = 1\n",
        "#model.fit(train_dataset, epochs=NUM_EPOCH, steps_per_epoch=math.ceil(num_train_examples/BATCH_SIZE))"
      ],
      "execution_count": 0,
      "outputs": []
    },
    {
      "metadata": {
        "id": "PVnJXfagEsN_",
        "colab_type": "text"
      },
      "cell_type": "markdown",
      "source": [
        "#Evaluate accuracy"
      ]
    },
    {
      "metadata": {
        "id": "hD-b-d6ADRSG",
        "colab_type": "code",
        "colab": {}
      },
      "cell_type": "code",
      "source": [
        "# print test accuracy\n",
        "BATCH_SIZE = 32\n",
        "test_loss, test_accuracy = model.evaluate(test_dataset, steps=math.ceil(num_test_examples/BATCH_SIZE))\n",
        "print(\"test performance: {}\".format(test_accuracy))"
      ],
      "execution_count": 0,
      "outputs": []
    },
    {
      "metadata": {
        "id": "jcjDuAaqE6-9",
        "colab_type": "text"
      },
      "cell_type": "markdown",
      "source": [
        "#Make predictions"
      ]
    },
    {
      "metadata": {
        "id": "2pWVAHQuDTz7",
        "colab_type": "code",
        "colab": {}
      },
      "cell_type": "code",
      "source": [
        "# test on single sample\n",
        "for test_images, test_labels in test_dataset.take(1):\n",
        "  test_images = test_images.numpy()\n",
        "  test_labels = test_labels.numpy()\n",
        "  predictions = model.predict(test_images)"
      ],
      "execution_count": 0,
      "outputs": []
    },
    {
      "metadata": {
        "id": "qj8_xYXqhZzS",
        "colab_type": "code",
        "colab": {}
      },
      "cell_type": "code",
      "source": [
        "# shape of prediction\n",
        "print(\"prediction shape: {}\".format(predictions.shape))\n",
        "\n",
        "# view single sample\n",
        "print(\"confidence values:\\n{}\".format(predictions[0]))\n",
        "\n",
        "# show highest confidence value\n",
        "print(\"highest confidence value: {}\".format(np.argmax(predictions[0])))\n",
        "\n",
        "# real label\n",
        "print(\"real label: {}\".format(test_labels[0]))"
      ],
      "execution_count": 0,
      "outputs": []
    },
    {
      "metadata": {
        "id": "2xMz4OKcKCve",
        "colab_type": "code",
        "colab": {}
      },
      "cell_type": "code",
      "source": [
        "# define plot helper functions\n",
        "def plot_image(i, predictions_array, true_labels, images):\n",
        "  predictions_array, true_label, img = predictions_array[i], true_labels[i], images[i]\n",
        "  plt.grid(False)\n",
        "  plt.xticks([])\n",
        "  plt.yticks([])\n",
        "  \n",
        "  plt.imshow(img[...,0], cmap=plt.cm.binary)\n",
        "  \n",
        "  predicted_label = np.argmax(predictions_array)\n",
        "  if predicted_label == true_label:\n",
        "    color = \"blue\"\n",
        "  else:\n",
        "    color = \"red\"\n",
        "    \n",
        "  plt.xlabel(\"{} {:2.0f}% ({})\".format(class_names[predicted_label],\n",
        "                                       100*np.max(predictions_array),\n",
        "                                       class_names[true_label]),\n",
        "                                       color=color)\n",
        "\n",
        "def plot_value_array(i,predictions_array,true_label):\n",
        "  predictions_array, true_label = predictions_array[i], true_label[i]\n",
        "  plt.grid(False)\n",
        "  plt.xticks([])\n",
        "  plt.yticks([])\n",
        "  \n",
        "  thisplot = plt.bar(range(10),predictions_array,color=\"#777777\")\n",
        "  plt.ylim([0,1])\n",
        "  \n",
        "  predicted_label = np.argmax(predictions_array)\n",
        "  thisplot[predicted_label].set_color('red')\n",
        "  thisplot[true_label].set_color('blue')"
      ],
      "execution_count": 0,
      "outputs": []
    },
    {
      "metadata": {
        "id": "EDflXpgAKER1",
        "colab_type": "code",
        "colab": {}
      },
      "cell_type": "code",
      "source": [
        "# plotting for one sample\n",
        "i = 12\n",
        "plt.figure(figsize=(6,3))\n",
        "plt.subplot(1,2,1)\n",
        "plot_image(i,predictions,test_labels,test_images)\n",
        "plt.subplot(1,2,2)\n",
        "plot_value_array(i,predictions,test_labels)"
      ],
      "execution_count": 0,
      "outputs": []
    },
    {
      "metadata": {
        "id": "4BiB6JyUlv4C",
        "colab_type": "code",
        "colab": {}
      },
      "cell_type": "code",
      "source": [
        "# view multiple samples\n",
        "num_rows = 5\n",
        "num_cols = 3\n",
        "num_entries = num_rows*num_cols\n",
        "plt.figure(figsize=(2*2*num_cols, 2*num_rows))\n",
        "for i in range(num_entries):\n",
        "  plt.subplot(num_rows,2*num_cols,2*i+1)\n",
        "  plot_image(i,predictions,test_labels,test_images)\n",
        "  plt.subplot(num_rows,2*num_cols,2*i+2)\n",
        "  plot_value_array(i,predictions,test_labels)"
      ],
      "execution_count": 0,
      "outputs": []
    },
    {
      "metadata": {
        "id": "qaPBURhOryMx",
        "colab_type": "text"
      },
      "cell_type": "markdown",
      "source": [
        "#Single image prediction"
      ]
    },
    {
      "metadata": {
        "id": "vUUWEeYor82t",
        "colab_type": "code",
        "colab": {}
      },
      "cell_type": "code",
      "source": [
        "# get image from test dataset\n",
        "img = test_images[0]\n",
        "print(img.shape)"
      ],
      "execution_count": 0,
      "outputs": []
    },
    {
      "metadata": {
        "id": "kluLuewSr_7b",
        "colab_type": "code",
        "colab": {}
      },
      "cell_type": "code",
      "source": [
        "# add image to batch\n",
        "img = np.array([img])\n",
        "print(img.shape)"
      ],
      "execution_count": 0,
      "outputs": []
    },
    {
      "metadata": {
        "id": "v3jDiC67sD7A",
        "colab_type": "code",
        "colab": {}
      },
      "cell_type": "code",
      "source": [
        "# predict image\n",
        "predictions_single = model.predict(img)\n",
        "print(\"predictions: \\n{}\".format(predictions_single))\n",
        "\n",
        "# plot value array\n",
        "plot_value_array(0,predictions_single,test_labels)\n",
        "_ = plt.xticks(range(10),class_names,rotation=45)\n",
        "\n",
        "# print class index\n",
        "predict_index = np.argmax(predictions_single)\n",
        "print(\"predicted class index: {}\".format(predict_index))\n",
        "print(\"predicted class name: {}\".format(class_names[predict_index]))"
      ],
      "execution_count": 0,
      "outputs": []
    },
    {
      "metadata": {
        "id": "F4F2Fs9oFcKh",
        "colab_type": "text"
      },
      "cell_type": "markdown",
      "source": [
        "# **Additional exercises**"
      ]
    },
    {
      "metadata": {
        "id": "4-DbIbmxFkEf",
        "colab_type": "text"
      },
      "cell_type": "markdown",
      "source": [
        "* Set training epochs set to 1\n",
        "* Number of neurons in the Dense layer following the Flatten one. For example, go really low (e.g. 10) in ranges up to 512 and see how accuracy changes\n",
        "* Add additional Dense layers between the Flatten and the final Dense(10, activation=tf.nn.softmax), experiment with different units in these layers\n",
        "* Don't normalize the pixel values, and see the effect that has"
      ]
    }
  ]
}